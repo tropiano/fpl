{
 "cells": [
  {
   "cell_type": "code",
   "execution_count": 1,
   "metadata": {},
   "outputs": [],
   "source": [
    "import requests\n",
    "import json\n",
    "import csv\n",
    "import argparse"
   ]
  },
  {
   "cell_type": "code",
   "execution_count": 2,
   "metadata": {},
   "outputs": [],
   "source": [
    "FPL_URL = \"https://fantasy.premierleague.com/drf/\"\n",
    "USER_SUMMARY_SUBURL = \"element-summary/\"\n",
    "LEAGUE_CLASSIC_STANDING_SUBURL = \"leagues-classic-standings/\"\n",
    "LEAGUE_H2H_STANDING_SUBURL = \"leagues-h2h-standings/\"\n",
    "TEAM_ENTRY_SUBURL = \"entry/\"\n",
    "PLAYERS_INFO_SUBURL = \"bootstrap-static\"\n",
    "PLAYERS_INFO_FILENAME = \"allPlayersInfo.json\"\n",
    "\n",
    "USER_SUMMARY_URL = FPL_URL + USER_SUMMARY_SUBURL\n",
    "PLAYERS_INFO_URL = FPL_URL + PLAYERS_INFO_SUBURL\n",
    "START_PAGE = 1\n",
    "\n",
    "# Download all player data: https://fantasy.premierleague.com/drf/bootstrap-static\n",
    "def getPlayersInfo():\n",
    "    r = requests.get(PLAYERS_INFO_URL)\n",
    "    jsonResponse = r.json()\n",
    "    with open(PLAYERS_INFO_FILENAME, 'w') as outfile:\n",
    "        json.dump(jsonResponse, outfile)\n",
    "\n",
    "\n",
    "# Get users in league: https://fantasy.premierleague.com/drf/leagues-classic-standings/336217?phase=1&le-page=1&ls-page=5\n",
    "def getUserEntryIds(league_id, ls_page, league_Standing_Url):\n",
    "    league_url = league_Standing_Url + str(league_id) + \"?phase=1&le-page=1&ls-page=\" + str(ls_page)\n",
    "    r = requests.get(league_url)\n",
    "    jsonResponse = r.json()\n",
    "    standings = jsonResponse[\"standings\"][\"results\"]\n",
    "    if not standings:\n",
    "        print(\"no more standings found!\")\n",
    "        return None\n",
    "\n",
    "    entries = []\n",
    "\n",
    "    for player in standings:\n",
    "        entries.append(player[\"entry\"])\n",
    "\n",
    "    return entries\n",
    "\n",
    "\n",
    "# team picked by user. example: https://fantasy.premierleague.com/drf/entry/2677936/event/1/picks with 2677936 being entry_id of the player\n",
    "def getplayersPickedForEntryId(entry_id, GWNumber):\n",
    "    eventSubUrl = \"event/\" + str(GWNumber) + \"/picks\"\n",
    "    playerTeamUrlForSpecificGW = FPL_URL + TEAM_ENTRY_SUBURL + str(entry_id) + \"/\" + eventSubUrl\n",
    "    r = requests.get(playerTeamUrlForSpecificGW)\n",
    "    jsonResponse = r.json()\n",
    "    picks = jsonResponse[\"picks\"]\n",
    "    elements = []\n",
    "    captainId = 1\n",
    "    for pick in picks:\n",
    "        elements.append(pick[\"element\"])\n",
    "        if pick[\"is_captain\"]:\n",
    "            captainId = pick[\"element\"]\n",
    "\n",
    "    return elements, captainId\n",
    "\n",
    "# read player info from the json file that we downlaoded\n",
    "def getAllPlayersDetailedJson():\n",
    "    with open(PLAYERS_INFO_FILENAME) as json_data:\n",
    "        d = json.load(json_data)\n",
    "        return d\n",
    "\n",
    "# writes the results to csv file\n",
    "def writeToFile(countOfplayersPicked, fileName):\n",
    "    with open(fileName, 'w') as out:\n",
    "        csv_out = csv.writer(out)\n",
    "        csv_out.writerow(['name', 'num'])\n",
    "        for row in countOfplayersPicked:\n",
    "            csv_out.writerow(row)"
   ]
  },
  {
   "cell_type": "code",
   "execution_count": 3,
   "metadata": {},
   "outputs": [
    {
     "name": "stdout",
     "output_type": "stream",
     "text": [
      "no more standings found!\n"
     ]
    }
   ],
   "source": [
    "getUserEntryIds(153875,1,FPL_URL + LEAGUE_CLASSIC_STANDING_SUBURL)"
   ]
  },
  {
   "cell_type": "code",
   "execution_count": 4,
   "metadata": {},
   "outputs": [],
   "source": [
    "# Get league users: https://fantasy.premierleague.com/drf/leagues-classic-standings/153875?phase=1&le-page=1&ls-page=1\n",
    "def get_league_users(league_id):\n",
    "    url = FPL_URL + LEAGUE_CLASSIC_STANDING_SUBURL + str(league_id) + \"?phase=1&le-page=1&ls-page=\" + str(1)\n",
    "    r = requests.get(url)\n",
    "    jsonResponse = r.json()\n",
    "    users = jsonResponse[\"new_entries\"][\"results\"]\n",
    "\n",
    "    if not users:\n",
    "        print(\"no user found for this league!\")\n",
    "        return None\n",
    "\n",
    "    return users\n"
   ]
  },
  {
   "cell_type": "code",
   "execution_count": 5,
   "metadata": {},
   "outputs": [],
   "source": [
    "users = get_league_users(153875)"
   ]
  },
  {
   "cell_type": "code",
   "execution_count": 6,
   "metadata": {},
   "outputs": [
    {
     "name": "stdout",
     "output_type": "stream",
     "text": [
      "[{u'league': 153875, u'joined_time': u'2018-07-18T15:43:35Z', u'entry_name': u'Ceparanese', u'player_first_name': u'Antonio', u'entry': 33822, u'player_last_name': u'Tropiano', u'id': 3540363}, {u'league': 153875, u'joined_time': u'2018-07-19T08:37:31Z', u'entry_name': u'No Likey No Lukaku', u'player_first_name': u'Bayo', u'entry': 345929, u'player_last_name': u'Adeoshun', u'id': 3732039}, {u'league': 153875, u'joined_time': u'2018-07-19T09:48:16Z', u'entry_name': u'Peanut Dusters', u'player_first_name': u'David', u'entry': 732244, u'player_last_name': u'Ives', u'id': 3752224}, {u'league': 153875, u'joined_time': u'2018-07-19T10:07:18Z', u'entry_name': u'In Cholo we trust', u'player_first_name': u'Ignacio', u'entry': 733377, u'player_last_name': u'Blanco', u'id': 3758180}, {u'league': 153875, u'joined_time': u'2018-07-23T13:56:13Z', u'entry_name': u'TDPSG', u'player_first_name': u'Tim', u'entry': 1036313, u'player_last_name': u'Hutton', u'id': 5453144}, {u'league': 153875, u'joined_time': u'2018-07-23T14:00:39Z', u'entry_name': u'Ball Busters', u'player_first_name': u'Harminder', u'entry': 991787, u'player_last_name': u'Virdi', u'id': 5455299}, {u'league': 153875, u'joined_time': u'2018-07-24T16:12:26Z', u'entry_name': u'Return of the Shaq', u'player_first_name': u'Sebastian', u'entry': 1126394, u'player_last_name': u'Thakar', u'id': 5970129}]\n"
     ]
    }
   ],
   "source": [
    "print users"
   ]
  },
  {
   "cell_type": "code",
   "execution_count": 7,
   "metadata": {},
   "outputs": [],
   "source": [
    "# Get user history: https://fantasy.premierleague.com/drf/entry/33822/history\n",
    "def get_user_history(userid):\n",
    "    url = FPL_URL + '/entry/' + str(userid) + '/history'\n",
    "    r = requests.get(url)\n",
    "    jsonResponse = r.json()\n",
    "    seasons = jsonResponse[\"season\"]\n",
    "\n",
    "    if not seasons:\n",
    "        print(\"no past seasons found!\")\n",
    "        return None\n",
    "\n",
    "    return seasons\n"
   ]
  },
  {
   "cell_type": "code",
   "execution_count": 8,
   "metadata": {},
   "outputs": [
    {
     "name": "stdout",
     "output_type": "stream",
     "text": [
      "{u'league': 153875, u'joined_time': u'2018-07-18T15:43:35Z', u'entry_name': u'Ceparanese', u'player_first_name': u'Antonio', u'entry': 33822, u'player_last_name': u'Tropiano', u'id': 3540363}\n"
     ]
    }
   ],
   "source": [
    "print users[0]"
   ]
  },
  {
   "cell_type": "code",
   "execution_count": 12,
   "metadata": {},
   "outputs": [],
   "source": [
    "# Get user transfers: https://fantasy.premierleague.com/drf/entry/33822/transfers\n",
    "def get_user_transfers(userid):\n",
    "    url = FPL_URL + '/entry/' + str(userid) + '/transfers'\n",
    "    r = requests.get(url)\n",
    "    jsonResponse = r.json()\n",
    "    seasons = jsonResponse[\"entry\"]\n",
    "\n",
    "    if not seasons:\n",
    "        print(\"no transfers found!\")\n",
    "        return None\n",
    "\n",
    "    return seasons\n"
   ]
  },
  {
   "cell_type": "code",
   "execution_count": 14,
   "metadata": {},
   "outputs": [
    {
     "name": "stdout",
     "output_type": "stream",
     "text": [
      "{u'summary_event_points': None, u'player_region_id': 106, u'total_loans_active': 0, u'player': 21034098, u'player_first_name': u'Antonio', u'event_transfers': 0, u'strategy': None, u'total_loans': 0, u'joined_time': u'2018-07-05T17:30:37Z', u'event_transfers_cost': 0, u'transfers_or_loans': u'transfers', u'favourite_team': 9, u'id': 33822, u'player_region_name': u'Italy', u'summary_event_rank': None, u'joined_seconds': 7713, u'email': False, u'extra_free_transfers': 0, u'deleted': False, u'kit': None, u'player_region_short_iso': u'IT', u'summary_overall_points': None, u'current_event': None, u'bank': 0, u'started_event': 1, u'name': u'Ceparanese', u'total_transfers': 0, u'summary_overall_rank': None, u'value': 1000, u'player_last_name': u'Tropiano'}\n",
      "{u'summary_event_points': None, u'player_region_id': 241, u'total_loans_active': 0, u'player': 2013320, u'player_first_name': u'Bayo', u'event_transfers': 0, u'strategy': None, u'total_loans': 0, u'joined_time': u'2018-07-12T13:25:45Z', u'event_transfers_cost': 0, u'transfers_or_loans': u'transfers', u'favourite_team': 14, u'id': 345929, u'player_region_name': u'England', u'summary_event_rank': None, u'joined_seconds': 22406, u'email': False, u'extra_free_transfers': 0, u'deleted': False, u'kit': None, u'player_region_short_iso': u'EN', u'summary_overall_points': None, u'current_event': None, u'bank': 15, u'started_event': 1, u'name': u'No Likey No Lukaku', u'total_transfers': 0, u'summary_overall_rank': None, u'value': 985, u'player_last_name': u'Adeoshun'}\n",
      "{u'summary_event_points': None, u'player_region_id': 241, u'total_loans_active': 0, u'player': 4503012, u'player_first_name': u'David', u'event_transfers': 0, u'strategy': None, u'total_loans': 0, u'joined_time': u'2018-07-19T09:45:58Z', u'event_transfers_cost': 0, u'transfers_or_loans': u'transfers', u'favourite_team': 19, u'id': 732244, u'player_region_name': u'England', u'summary_event_rank': None, u'joined_seconds': 35593, u'email': False, u'extra_free_transfers': 0, u'deleted': False, u'kit': u'{\"kit_shirt_type\":\"plain\",\"kit_shirt_base\":\"#af4848\",\"kit_shirt_sleeves\":\"#b9eef6\",\"kit_shirt_secondary\":\"#e1e1e1\",\"kit_shirt_logo\":\"none\",\"kit_shorts\":\"#fcfefe\",\"kit_socks_type\":\"hoops\",\"kit_socks_base\":\"#b9eef6\",\"kit_socks_secondary\":\"#af4848\"}', u'player_region_short_iso': u'EN', u'summary_overall_points': None, u'current_event': None, u'bank': 5, u'started_event': 1, u'name': u'Peanut Dusters', u'total_transfers': 0, u'summary_overall_rank': None, u'value': 995, u'player_last_name': u'Ives'}\n",
      "{u'summary_event_points': None, u'player_region_id': 241, u'total_loans_active': 0, u'player': 17385393, u'player_first_name': u'Ignacio', u'event_transfers': 0, u'strategy': None, u'total_loans': 0, u'joined_time': u'2018-07-19T10:06:01Z', u'event_transfers_cost': 0, u'transfers_or_loans': u'transfers', u'favourite_team': 9, u'id': 733377, u'player_region_name': u'England', u'summary_event_rank': None, u'joined_seconds': 34390, u'email': True, u'extra_free_transfers': 0, u'deleted': False, u'kit': u'{\"kit_shirt_type\":\"stripes\",\"kit_shirt_base\":\"#f90202\",\"kit_shirt_sleeves\":\"#fcfbfb\",\"kit_shirt_secondary\":\"#f9f8f8\",\"kit_shirt_logo\":\"ea-sports-on-white\",\"kit_shorts\":\"#0152fa\",\"kit_socks_type\":\"hoops\",\"kit_socks_base\":\"#fc0000\",\"kit_socks_secondary\":\"#e1e1e1\"}', u'player_region_short_iso': u'EN', u'summary_overall_points': None, u'current_event': None, u'bank': 10, u'started_event': 1, u'name': u'In Cholo we trust', u'total_transfers': 0, u'summary_overall_rank': None, u'value': 990, u'player_last_name': u'Blanco'}\n",
      "{u'summary_event_points': None, u'player_region_id': 241, u'total_loans_active': 0, u'player': 22961032, u'player_first_name': u'Tim', u'event_transfers': 0, u'strategy': None, u'total_loans': 0, u'joined_time': u'2018-07-23T13:54:18Z', u'event_transfers_cost': 0, u'transfers_or_loans': u'transfers', u'favourite_team': None, u'id': 1036313, u'player_region_name': u'England', u'summary_event_rank': None, u'joined_seconds': 20693, u'email': False, u'extra_free_transfers': 0, u'deleted': False, u'kit': u'{\"kit_shirt_type\":\"plain\",\"kit_shirt_base\":\"#120466\",\"kit_shirt_sleeves\":\"#ffc800\",\"kit_shirt_secondary\":\"#e1e1e1\",\"kit_shirt_logo\":\"none\",\"kit_shorts\":\"#ffc800\",\"kit_socks_type\":\"hoops\",\"kit_socks_base\":\"#120466\",\"kit_socks_secondary\":\"#ffc800\"}', u'player_region_short_iso': u'EN', u'summary_overall_points': None, u'current_event': None, u'bank': 0, u'started_event': 1, u'name': u'TDPSG', u'total_transfers': 0, u'summary_overall_rank': None, u'value': 1000, u'player_last_name': u'Hutton'}\n",
      "{u'summary_event_points': None, u'player_region_id': 241, u'total_loans_active': 0, u'player': 29071393, u'player_first_name': u'Harminder', u'event_transfers': 0, u'strategy': None, u'total_loans': 0, u'joined_time': u'2018-07-22T22:02:46Z', u'event_transfers_cost': 0, u'transfers_or_loans': u'transfers', u'favourite_team': 1, u'id': 991787, u'player_region_name': u'England', u'summary_event_rank': None, u'joined_seconds': 77785, u'email': False, u'extra_free_transfers': 0, u'deleted': False, u'kit': None, u'player_region_short_iso': u'EN', u'summary_overall_points': None, u'current_event': None, u'bank': 15, u'started_event': 1, u'name': u'Ball Busters', u'total_transfers': 0, u'summary_overall_rank': None, u'value': 985, u'player_last_name': u'Virdi'}\n",
      "{u'summary_event_points': None, u'player_region_id': 241, u'total_loans_active': 0, u'player': 7838793, u'player_first_name': u'Sebastian', u'event_transfers': 0, u'strategy': None, u'total_loans': 0, u'joined_time': u'2018-07-24T16:12:05Z', u'event_transfers_cost': 0, u'transfers_or_loans': u'transfers', u'favourite_team': 12, u'id': 1126394, u'player_region_name': u'England', u'summary_event_rank': None, u'joined_seconds': 12426, u'email': False, u'extra_free_transfers': 0, u'deleted': False, u'kit': None, u'player_region_short_iso': u'EN', u'summary_overall_points': None, u'current_event': None, u'bank': 15, u'started_event': 1, u'name': u'Return of the Shaq', u'total_transfers': 0, u'summary_overall_rank': None, u'value': 985, u'player_last_name': u'Thakar'}\n"
     ]
    }
   ],
   "source": [
    "for u in users:\n",
    "    print get_user_transfers(u['entry'])"
   ]
  },
  {
   "cell_type": "code",
   "execution_count": 10,
   "metadata": {},
   "outputs": [
    {
     "name": "stdout",
     "output_type": "stream",
     "text": [
      "Antonio\n",
      "[{u'season': 9, u'season_name': u'2014/15', u'rank': 2328650, u'player': 21034098, u'total_points': 1553, u'id': 31280422}, {u'season': 10, u'season_name': u'2015/16', u'rank': 1819272, u'player': 21034098, u'total_points': 1793, u'id': 34794180}, {u'season': 11, u'season_name': u'2016/17', u'rank': 369335, u'player': 21034098, u'total_points': 2057, u'id': 39118431}, {u'season': 12, u'season_name': u'2017/18', u'rank': 462864, u'player': 21034098, u'total_points': 2105, u'id': 42905556}]\n",
      "Bayo\n",
      "[{u'season': 1, u'season_name': u'2006/07', u'rank': 60975, u'player': 2013320, u'total_points': 1861, u'id': 494425}, {u'season': 2, u'season_name': u'2007/08', u'rank': 75906, u'player': 2013320, u'total_points': 2079, u'id': 1557874}, {u'season': 3, u'season_name': u'2008/09', u'rank': 408752, u'player': 2013320, u'total_points': 1744, u'id': 3092342}, {u'season': 4, u'season_name': u'2009/10', u'rank': 193677, u'player': 2013320, u'total_points': 2108, u'id': 5876092}, {u'season': 5, u'season_name': u'2010/11', u'rank': 616929, u'player': 2013320, u'total_points': 1803, u'id': 8844235}, {u'season': 6, u'season_name': u'2011/12', u'rank': 767858, u'player': 2013320, u'total_points': 1811, u'id': 13313305}, {u'season': 7, u'season_name': u'2012/13', u'rank': 1543510, u'player': 2013320, u'total_points': 1673, u'id': 18328342}, {u'season': 8, u'season_name': u'2013/14', u'rank': 1396652, u'player': 2013320, u'total_points': 1903, u'id': 21297923}, {u'season': 9, u'season_name': u'2014/15', u'rank': 1275630, u'player': 2013320, u'total_points': 1769, u'id': 31802596}, {u'season': 10, u'season_name': u'2015/16', u'rank': 310461, u'player': 2013320, u'total_points': 2074, u'id': 35185098}, {u'season': 11, u'season_name': u'2016/17', u'rank': 679933, u'player': 2013320, u'total_points': 1985, u'id': 38778979}, {u'season': 12, u'season_name': u'2017/18', u'rank': 3461975, u'player': 2013320, u'total_points': 1715, u'id': 42679124}]\n",
      "David\n",
      "[{u'season': 3, u'season_name': u'2008/09', u'rank': 444748, u'player': 4503012, u'total_points': 1730, u'id': 3209886}, {u'season': 4, u'season_name': u'2009/10', u'rank': 641646, u'player': 4503012, u'total_points': 1921, u'id': 5570750}, {u'season': 5, u'season_name': u'2010/11', u'rank': 572485, u'player': 4503012, u'total_points': 1815, u'id': 8176699}, {u'season': 6, u'season_name': u'2011/12', u'rank': 446111, u'player': 4503012, u'total_points': 1895, u'id': 12736441}, {u'season': 7, u'season_name': u'2012/13', u'rank': 704028, u'player': 4503012, u'total_points': 1864, u'id': 19129925}, {u'season': 8, u'season_name': u'2013/14', u'rank': 1222943, u'player': 4503012, u'total_points': 1952, u'id': 22211593}, {u'season': 9, u'season_name': u'2014/15', u'rank': 365500, u'player': 4503012, u'total_points': 1952, u'id': 32018411}, {u'season': 10, u'season_name': u'2015/16', u'rank': 479003, u'player': 4503012, u'total_points': 2033, u'id': 35258603}, {u'season': 11, u'season_name': u'2016/17', u'rank': 3274586, u'player': 4503012, u'total_points': 1558, u'id': 39909361}, {u'season': 12, u'season_name': u'2017/18', u'rank': 1210861, u'player': 4503012, u'total_points': 1996, u'id': 45379318}]\n",
      "Ignacio\n",
      "[{u'season': 8, u'season_name': u'2013/14', u'rank': 3000251, u'player': 17385393, u'total_points': 1233, u'id': 21734318}, {u'season': 11, u'season_name': u'2016/17', u'rank': 2832906, u'player': 17385393, u'total_points': 1644, u'id': 39657364}, {u'season': 12, u'season_name': u'2017/18', u'rank': 2744369, u'player': 17385393, u'total_points': 1809, u'id': 44200652}]\n",
      "Tim\n",
      "[{u'season': 9, u'season_name': u'2014/15', u'rank': 420535, u'player': 22961032, u'total_points': 1937, u'id': 33606252}, {u'season': 10, u'season_name': u'2015/16', u'rank': 2524711, u'player': 22961032, u'total_points': 1614, u'id': 36247128}, {u'season': 11, u'season_name': u'2016/17', u'rank': 2802207, u'player': 22961032, u'total_points': 1649, u'id': 39819588}, {u'season': 12, u'season_name': u'2017/18', u'rank': 2825019, u'player': 22961032, u'total_points': 1798, u'id': 46032096}]\n",
      "Harminder\n",
      "[{u'season': 11, u'season_name': u'2016/17', u'rank': 636860, u'player': 29071393, u'total_points': 1993, u'id': 38329395}, {u'season': 12, u'season_name': u'2017/18', u'rank': 1441251, u'player': 29071393, u'total_points': 1968, u'id': 44345558}]\n",
      "Sebastian\n",
      "[{u'season': 5, u'season_name': u'2010/11', u'rank': 2079973, u'player': 7838793, u'total_points': 1320, u'id': 8387966}, {u'season': 6, u'season_name': u'2011/12', u'rank': 1576317, u'player': 7838793, u'total_points': 1619, u'id': 14608147}, {u'season': 7, u'season_name': u'2012/13', u'rank': 1253822, u'player': 7838793, u'total_points': 1743, u'id': 19256925}, {u'season': 8, u'season_name': u'2013/14', u'rank': 2074905, u'player': 7838793, u'total_points': 1682, u'id': 21463137}, {u'season': 10, u'season_name': u'2015/16', u'rank': 1441433, u'player': 7838793, u'total_points': 1864, u'id': 35262585}, {u'season': 11, u'season_name': u'2016/17', u'rank': 960908, u'player': 7838793, u'total_points': 1933, u'id': 39383182}, {u'season': 12, u'season_name': u'2017/18', u'rank': 3431844, u'player': 7838793, u'total_points': 1719, u'id': 44538677}]\n"
     ]
    }
   ],
   "source": [
    "for u in users:\n",
    "    print u['player_first_name'] \n",
    "    print get_user_history(u['entry'])"
   ]
  },
  {
   "cell_type": "code",
   "execution_count": null,
   "metadata": {},
   "outputs": [],
   "source": [
    "# Download all player data: https://fantasy.premierleague.com/drf/bootstrap-static\n",
    "def get_players():\n",
    "    url = 'https://fantasy.premierleague.com/drf/bootstrap-static'\n",
    "    r = requests.get(url)\n",
    "    jsonResponse = r.json()\n",
    "    with open(PLAYERS_INFO_FILENAME, 'w') as outfile:\n",
    "        json.dump(jsonResponse, outfile)"
   ]
  },
  {
   "cell_type": "code",
   "execution_count": 11,
   "metadata": {},
   "outputs": [
    {
     "name": "stderr",
     "output_type": "stream",
     "text": [
      "usage: ipykernel_launcher.py [-h] -l LEAGUE -g GAMEWEEK [-t TYPE]\n",
      "ipykernel_launcher.py: error: argument -l/--league is required\n"
     ]
    },
    {
     "ename": "SystemExit",
     "evalue": "2",
     "output_type": "error",
     "traceback": [
      "An exception has occurred, use %tb to see the full traceback.\n",
      "\u001b[0;31mSystemExit\u001b[0m\u001b[0;31m:\u001b[0m 2\n"
     ]
    },
    {
     "name": "stderr",
     "output_type": "stream",
     "text": [
      "/Library/Python/2.7/site-packages/IPython/core/interactiveshell.py:2886: UserWarning: To exit: use 'exit', 'quit', or Ctrl-D.\n",
      "  warn(\"To exit: use 'exit', 'quit', or Ctrl-D.\", stacklevel=1)\n"
     ]
    }
   ],
   "source": [
    "# Main Script\n",
    "\n",
    "parser = argparse.ArgumentParser(description='Get players picked in your league in a certain GameWeek')\n",
    "parser.add_argument('-l','--league', help='league entry id', required=True)\n",
    "parser.add_argument('-g','--gameweek', help='gameweek number', required=True)\n",
    "parser.add_argument('-t', '--type', help='league type')\n",
    "args = vars(parser.parse_args())\n",
    "\n",
    "getPlayersInfo()\n",
    "playerElementIdToNameMap = {}\n",
    "allPlayers = getAllPlayersDetailedJson()\n",
    "for element in allPlayers[\"elements\"]:\n",
    "    playerElementIdToNameMap[element[\"id\"]] = element[\"web_name\"].encode('ascii', 'ignore')\n",
    "\n",
    "countOfplayersPicked = {}\n",
    "countOfCaptainsPicked = {}\n",
    "totalNumberOfPlayersCount = 0\n",
    "pageCount = START_PAGE\n",
    "GWNumber = args['gameweek']\n",
    "leagueIdSelected = args['league']\n",
    "\n",
    "if args['type'] == \"h2h\":\n",
    "    leagueStandingUrl = FPL_URL + LEAGUE_H2H_STANDING_SUBURL\n",
    "    print(\"h2h league mode\")\n",
    "else:\n",
    "    leagueStandingUrl = FPL_URL + LEAGUE_CLASSIC_STANDING_SUBURL\n",
    "    print(\"classic league mode\")\n",
    "\n",
    "while (True):\n",
    "    try:\n",
    "        entries = getUserEntryIds(leagueIdSelected, pageCount, leagueStandingUrl)\n",
    "        if entries is None:\n",
    "            print(\"breaking as no more player entries\")\n",
    "            break\n",
    "\n",
    "        totalNumberOfPlayersCount += len(entries)\n",
    "        print(\"parsing pageCount: \" + str(pageCount) + \" with total number of players so far:\" + str(\n",
    "            totalNumberOfPlayersCount))\n",
    "        for entry in entries:\n",
    "            elements, captainId = getplayersPickedForEntryId(entry, GWNumber)\n",
    "            for element in elements:\n",
    "                name = playerElementIdToNameMap[element]\n",
    "                if name in countOfplayersPicked:\n",
    "                    countOfplayersPicked[name] += 1\n",
    "                else:\n",
    "                    countOfplayersPicked[name] = 1\n",
    "\n",
    "            captainName = playerElementIdToNameMap[captainId]\n",
    "            if captainName in countOfCaptainsPicked:\n",
    "                countOfCaptainsPicked[captainName] += 1\n",
    "            else:\n",
    "                countOfCaptainsPicked[captainName] = 1\n",
    "\n",
    "        listOfcountOfplayersPicked = sorted(countOfplayersPicked.items(), key=lambda x: x[1], reverse=True)\n",
    "        writeToFile(listOfcountOfplayersPicked, \"result playersPicked \" + str(leagueIdSelected) + \".csv\")\n",
    "        listOfCountOfCaptainsPicked = sorted(countOfCaptainsPicked.items(), key=lambda x: x[1], reverse=True)\n",
    "        writeToFile(listOfCountOfCaptainsPicked, \"result captain \" + str(leagueIdSelected) + \".csv\")\n",
    "\n",
    "        pageCount += 1\n",
    "    except Exception, e:\n",
    "        print str(e)\n",
    "        pass\n"
   ]
  },
  {
   "cell_type": "code",
   "execution_count": null,
   "metadata": {},
   "outputs": [],
   "source": []
  }
 ],
 "metadata": {
  "kernelspec": {
   "display_name": "Python 2",
   "language": "python",
   "name": "python2"
  },
  "language_info": {
   "codemirror_mode": {
    "name": "ipython",
    "version": 2
   },
   "file_extension": ".py",
   "mimetype": "text/x-python",
   "name": "python",
   "nbconvert_exporter": "python",
   "pygments_lexer": "ipython2",
   "version": "2.7.10"
  }
 },
 "nbformat": 4,
 "nbformat_minor": 2
}
